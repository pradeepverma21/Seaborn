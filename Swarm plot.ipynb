{
 "cells": [
  {
   "cell_type": "markdown",
   "id": "29ce3234",
   "metadata": {},
   "source": [
    "# Swarm Plot "
   ]
  },
  {
   "cell_type": "markdown",
   "id": "6354d0b5",
   "metadata": {},
   "source": [
    "Why do we draw swarm plot ?                                                              \n",
    "\n",
    "To represent each of the data points on the plot       \n",
    "     "
   ]
  },
  {
   "cell_type": "code",
   "execution_count": null,
   "id": "762251ad",
   "metadata": {},
   "outputs": [],
   "source": []
  }
 ],
 "metadata": {
  "kernelspec": {
   "display_name": "Python 3 (ipykernel)",
   "language": "python",
   "name": "python3"
  },
  "language_info": {
   "codemirror_mode": {
    "name": "ipython",
    "version": 3
   },
   "file_extension": ".py",
   "mimetype": "text/x-python",
   "name": "python",
   "nbconvert_exporter": "python",
   "pygments_lexer": "ipython3",
   "version": "3.10.9"
  }
 },
 "nbformat": 4,
 "nbformat_minor": 5
}
